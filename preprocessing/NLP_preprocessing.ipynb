{
 "cells": [
  {
   "cell_type": "code",
   "execution_count": 1,
   "id": "f02ef1a9-f276-4c76-9931-41e5b77dd115",
   "metadata": {},
   "outputs": [
    {
     "name": "stdout",
     "output_type": "stream",
     "text": [
      "Requirement already satisfied: malaya in c:\\users\\dell\\anaconda\\lib\\site-packages (5.1.1)\n",
      "Requirement already satisfied: dateparser in c:\\users\\dell\\anaconda\\lib\\site-packages (from malaya) (1.2.1)\n",
      "Requirement already satisfied: scikit-learn>=1.2 in c:\\users\\dell\\anaconda\\lib\\site-packages (from malaya) (1.2.2)\n",
      "Requirement already satisfied: requests in c:\\users\\dell\\anaconda\\lib\\site-packages (from malaya) (2.31.0)\n",
      "Requirement already satisfied: unidecode in c:\\users\\dell\\anaconda\\lib\\site-packages (from malaya) (1.2.0)\n",
      "Requirement already satisfied: numpy in c:\\users\\dell\\anaconda\\lib\\site-packages (from malaya) (1.24.4)\n",
      "Requirement already satisfied: scipy in c:\\users\\dell\\anaconda\\lib\\site-packages (from malaya) (1.10.1)\n",
      "Requirement already satisfied: ftfy in c:\\users\\dell\\anaconda\\lib\\site-packages (from malaya) (6.3.1)\n",
      "Requirement already satisfied: networkx in c:\\users\\dell\\anaconda\\lib\\site-packages (from malaya) (3.1)\n",
      "Requirement already satisfied: sentencepiece in c:\\users\\dell\\anaconda\\lib\\site-packages (from malaya) (0.2.0)\n",
      "Requirement already satisfied: tqdm in c:\\users\\dell\\anaconda\\lib\\site-packages (from malaya) (4.65.0)\n",
      "Requirement already satisfied: malaya-boilerplate>=0.0.25 in c:\\users\\dell\\anaconda\\lib\\site-packages (from malaya) (0.0.25)\n",
      "Requirement already satisfied: regex in c:\\users\\dell\\anaconda\\lib\\site-packages (from malaya) (2023.10.3)\n",
      "Requirement already satisfied: transformers in c:\\users\\dell\\anaconda\\lib\\site-packages (from malaya) (4.52.3)\n",
      "Requirement already satisfied: huggingface-hub in c:\\users\\dell\\anaconda\\lib\\site-packages (from malaya-boilerplate>=0.0.25->malaya) (0.32.2)\n",
      "Requirement already satisfied: joblib>=1.1.1 in c:\\users\\dell\\anaconda\\lib\\site-packages (from scikit-learn>=1.2->malaya) (1.2.0)\n",
      "Requirement already satisfied: threadpoolctl>=2.0.0 in c:\\users\\dell\\anaconda\\lib\\site-packages (from scikit-learn>=1.2->malaya) (2.2.0)\n",
      "Requirement already satisfied: python-dateutil>=2.7.0 in c:\\users\\dell\\anaconda\\lib\\site-packages (from dateparser->malaya) (2.8.2)\n",
      "Requirement already satisfied: pytz>=2024.2 in c:\\users\\dell\\anaconda\\lib\\site-packages (from dateparser->malaya) (2025.2)\n",
      "Requirement already satisfied: tzlocal>=0.2 in c:\\users\\dell\\anaconda\\lib\\site-packages (from dateparser->malaya) (2.1)\n",
      "Requirement already satisfied: wcwidth in c:\\users\\dell\\anaconda\\lib\\site-packages (from ftfy->malaya) (0.2.5)\n",
      "Requirement already satisfied: charset-normalizer<4,>=2 in c:\\users\\dell\\anaconda\\lib\\site-packages (from requests->malaya) (2.0.4)\n",
      "Requirement already satisfied: idna<4,>=2.5 in c:\\users\\dell\\anaconda\\lib\\site-packages (from requests->malaya) (3.4)\n",
      "Requirement already satisfied: urllib3<3,>=1.21.1 in c:\\users\\dell\\anaconda\\lib\\site-packages (from requests->malaya) (2.0.7)\n",
      "Requirement already satisfied: certifi>=2017.4.17 in c:\\users\\dell\\anaconda\\lib\\site-packages (from requests->malaya) (2024.12.14)\n",
      "Requirement already satisfied: colorama in c:\\users\\dell\\anaconda\\lib\\site-packages (from tqdm->malaya) (0.4.6)\n",
      "Requirement already satisfied: filelock in c:\\users\\dell\\anaconda\\lib\\site-packages (from transformers->malaya) (3.13.1)\n",
      "Requirement already satisfied: packaging>=20.0 in c:\\users\\dell\\anaconda\\lib\\site-packages (from transformers->malaya) (23.1)\n",
      "Requirement already satisfied: pyyaml>=5.1 in c:\\users\\dell\\anaconda\\lib\\site-packages (from transformers->malaya) (6.0.1)\n",
      "Requirement already satisfied: tokenizers<0.22,>=0.21 in c:\\users\\dell\\anaconda\\lib\\site-packages (from transformers->malaya) (0.21.1)\n",
      "Requirement already satisfied: safetensors>=0.4.3 in c:\\users\\dell\\anaconda\\lib\\site-packages (from transformers->malaya) (0.5.3)\n",
      "Requirement already satisfied: fsspec>=2023.5.0 in c:\\users\\dell\\anaconda\\lib\\site-packages (from huggingface-hub->malaya-boilerplate>=0.0.25->malaya) (2023.10.0)\n",
      "Requirement already satisfied: typing-extensions>=3.7.4.3 in c:\\users\\dell\\anaconda\\lib\\site-packages (from huggingface-hub->malaya-boilerplate>=0.0.25->malaya) (4.13.2)\n",
      "Requirement already satisfied: six>=1.5 in c:\\users\\dell\\anaconda\\lib\\site-packages (from python-dateutil>=2.7.0->dateparser->malaya) (1.16.0)\n",
      "Note: you may need to restart the kernel to use updated packages.\n"
     ]
    }
   ],
   "source": [
    "pip install malaya"
   ]
  },
  {
   "cell_type": "code",
   "execution_count": 2,
   "id": "2d7d4bbb-762e-403f-bb67-b93a993ec8f0",
   "metadata": {},
   "outputs": [
    {
     "name": "stderr",
     "output_type": "stream",
     "text": [
      "C:\\Users\\DELL\\anaconda\\Lib\\site-packages\\malaya\\tokenizer.py:214: FutureWarning: Possible nested set at position 3397\n",
      "  self.tok = re.compile(r'({})'.format('|'.join(pipeline)))\n",
      "C:\\Users\\DELL\\anaconda\\Lib\\site-packages\\malaya\\tokenizer.py:214: FutureWarning: Possible nested set at position 3927\n",
      "  self.tok = re.compile(r'({})'.format('|'.join(pipeline)))\n"
     ]
    }
   ],
   "source": [
    "import re\n",
    "import json\n",
    "import malaya\n",
    "from nltk.tokenize import sent_tokenize, word_tokenize"
   ]
  },
  {
   "cell_type": "code",
   "execution_count": 3,
   "id": "7ce2f1a9-f353-4c3b-ad80-7d22755b51d0",
   "metadata": {},
   "outputs": [],
   "source": [
    "def clean_text(text):\n",
    "    # convert to lowercase\n",
    "    text = text.lower()\n",
    "    \n",
    "    # split sentence\n",
    "    sentences = sent_tokenize(text)\n",
    "\n",
    "    result = []\n",
    "    for sentence in sentences:\n",
    "        # Stem the sentence\n",
    "        stemmer = malaya.stem.sastrawi()\n",
    "        stemmed = stemmer.stem(sentence)\n",
    "\n",
    "        # Remove punctuation\n",
    "        clean_sentence = re.sub(r\"[^\\w\\s]\", \" \", stemmed)\n",
    "\n",
    "        # Tokenize\n",
    "        tokens = word_tokenize(clean_sentence)\n",
    "\n",
    "        # Remove stopwords\n",
    "        malay_stopwords = set(malaya.text.function.get_stopwords())\n",
    "        stopword = [word for word in tokens if word.isalpha() and word not in malay_stopwords]\n",
    "\n",
    "        result.append(stopword)\n",
    "\n",
    "    return result"
   ]
  },
  {
   "cell_type": "code",
   "execution_count": 4,
   "id": "7bc64d42-010e-401d-b2d9-17f63cc17b96",
   "metadata": {},
   "outputs": [],
   "source": [
    "def process_text(title, content):\n",
    "    return {\n",
    "        \"clean_title\": clean_text(title),\n",
    "        \"clean_answer\": clean_text(content)\n",
    "    }"
   ]
  },
  {
   "cell_type": "code",
   "execution_count": 5,
   "id": "5cdf347d-6eb1-46f3-8887-886cb4b7125a",
   "metadata": {},
   "outputs": [],
   "source": [
    "# Load file\n",
    "with open('raw_text_data.json', 'r', encoding='utf-8') as f:\n",
    "    data = json.load(f)"
   ]
  },
  {
   "cell_type": "code",
   "execution_count": 6,
   "id": "7aab12c8-4891-43e5-aa0b-a821dc8d8352",
   "metadata": {},
   "outputs": [
    {
     "name": "stderr",
     "output_type": "stream",
     "text": [
      "C:\\Users\\DELL\\anaconda\\Lib\\site-packages\\malaya\\model\\stem.py:28: FutureWarning: Possible nested set at position 3\n",
      "  or re.findall(_expressions['ic'], word.lower())\n"
     ]
    }
   ],
   "source": [
    "processed_data = []\n",
    "for article in data:\n",
    "    title = article.get(\"title\", \"\")\n",
    "    content = article.get(\"content\", \"\")\n",
    "    processed = process_text(title, content)\n",
    "    processed_data.append(processed)"
   ]
  },
  {
   "cell_type": "code",
   "execution_count": 7,
   "id": "c14f47f3-8d65-47e1-a7c5-e83cabc97567",
   "metadata": {},
   "outputs": [],
   "source": [
    "with open('clean_text_data.json', 'w', encoding='utf-8') as f:\n",
    "    json.dump(processed_data, f, ensure_ascii=False, indent=2)"
   ]
  },
  {
   "cell_type": "code",
   "execution_count": null,
   "id": "d2cbc53b-bdaa-4108-bae4-8fa538faef96",
   "metadata": {},
   "outputs": [],
   "source": []
  }
 ],
 "metadata": {
  "kernelspec": {
   "display_name": "Python 3 (ipykernel)",
   "language": "python",
   "name": "python3"
  },
  "language_info": {
   "codemirror_mode": {
    "name": "ipython",
    "version": 3
   },
   "file_extension": ".py",
   "mimetype": "text/x-python",
   "name": "python",
   "nbconvert_exporter": "python",
   "pygments_lexer": "ipython3",
   "version": "3.11.7"
  }
 },
 "nbformat": 4,
 "nbformat_minor": 5
}
